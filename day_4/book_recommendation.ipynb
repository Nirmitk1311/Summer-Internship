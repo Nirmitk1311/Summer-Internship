{
  "nbformat": 4,
  "nbformat_minor": 0,
  "metadata": {
    "colab": {
      "provenance": []
    },
    "kernelspec": {
      "name": "python3",
      "display_name": "Python 3"
    },
    "language_info": {
      "name": "python"
    }
  },
  "cells": [
    {
      "cell_type": "code",
      "execution_count": null,
      "metadata": {
        "colab": {
          "base_uri": "https://localhost:8080/"
        },
        "id": "3qBn0w911jpT",
        "outputId": "3d9871dc-75a5-4600-9dc9-c4f45fa3c076"
      },
      "outputs": [
        {
          "output_type": "stream",
          "name": "stdout",
          "text": [
            "Welcome to the Book Recommendatioin Program!!\n",
            "Enter a keyword to search for books:  Mark Twain\n",
            "Title: The Wit and Wisdom of Mark Twain\n",
            "Authors: Mark Twain\n",
            "Average Rating:4.2\n",
            "ISBN: 486406644\n",
            "ISBN13: 9.78049E+12\n",
            "Language Code: eng\n",
            "Ratings COunt: 970\n",
            "Text Reviews Count: 53\n",
            "Publication Date: 12/23/1998\n",
            "Publisher: Dover Publications\n",
            "----------------------------------------\n",
            "Title: The Complete Short Stories of Mark Twain\n",
            "Authors: Mark Twain/Charles Neider\n",
            "Average Rating:4.28\n",
            "ISBN: 553211951\n",
            "ISBN13: 9.78055E+12\n",
            "Language Code: eng\n",
            "Ratings COunt: 5710\n",
            "Text Reviews Count: 142\n",
            "Publication Date: 03-01-1984\n",
            "Publisher: Bantam Classics\n",
            "----------------------------------------\n",
            "Title: The Autobiography of Mark Twain\n",
            "Authors: Mark Twain/Charles Neider\n",
            "Average Rating:4.05\n",
            "ISBN: 60955422\n",
            "ISBN13: 9.78006E+12\n",
            "Language Code: eng\n",
            "Ratings COunt: 2871\n",
            "Text Reviews Count: 209\n",
            "Publication Date: 11/28/2000\n",
            "Publisher: Harper Perennial\n",
            "----------------------------------------\n",
            "Title: Who Was Mark Twain?\n",
            "Authors: April Jones Prince/Nancy Harrison/John   O'Brien\n",
            "Average Rating:4.16\n",
            "ISBN: 448433192\n",
            "ISBN13: 9.78045E+12\n",
            "Language Code: eng\n",
            "Ratings COunt: 529\n",
            "Text Reviews Count: 56\n",
            "Publication Date: 5/24/2004\n",
            "Publisher: Grosset & Dunlap\n",
            "----------------------------------------\n",
            "Title: The Complete Essays of Mark Twain\n",
            "Authors: Mark Twain/Charles Neider\n",
            "Average Rating:4.33\n",
            "ISBN: 306809575\n",
            "ISBN13: 9.78031E+12\n",
            "Language Code: eng\n",
            "Ratings COunt: 195\n",
            "Text Reviews Count: 15\n",
            "Publication Date: 11-02-2000\n",
            "Publisher: Da Capo Press\n",
            "----------------------------------------\n"
          ]
        }
      ],
      "source": [
        "import pandas as pd\n",
        "\n",
        "books_df = pd.read_csv('/content/books.csv')\n",
        "\n",
        "def search_books(keyword):\n",
        "  keyword = keyword.lower()\n",
        "  results = books_df[books_df['title'].str.lower().str.contains(keyword) |\n",
        "                     books_df['authors'].str.lower().str.contains(keyword) |\n",
        "                     books_df['publisher'].str.lower().str.contains(keyword)\n",
        "  ]\n",
        "  return results\n",
        "\n",
        "def display_books(books):\n",
        "  if books.empty:\n",
        "    print(\"No books found.\")\n",
        "  else:\n",
        "    for index, book in books.iterrows():\n",
        "      print(f\"Title: {book['title']}\")\n",
        "      print(f\"Authors: {book['authors']}\")\n",
        "      print(f\"Average Rating:{book['average_rating']}\")\n",
        "      print(f\"ISBN: {book['isbn']}\")\n",
        "      print(f\"ISBN13: {book['isbn13']}\")\n",
        "      print(f\"Language Code: {book['language_code']}\")\n",
        "\n",
        "      if 'num_pages' in book:\n",
        "          print(f\"Number of Pages: {book['num_pages']}\")\n",
        "      print(f\"Ratings COunt: {book['ratings_count']}\")\n",
        "      print(f\"Text Reviews Count: {book['text_reviews_count']}\")\n",
        "      print(f\"Publication Date: {book['publication_date']}\")\n",
        "      print(f\"Publisher: {book['publisher']}\")\n",
        "      print('-'*40)\n",
        "\n",
        "def main():\n",
        "  print(\"Welcome to the Book Recommendatioin Program!!\")\n",
        "  keyword = input(\"Enter a keyword to search for books: \")\n",
        "  results = search_books(keyword)\n",
        "  display_books(results)\n",
        "\n",
        "if __name__ == \"__main__\":\n",
        "  main()"
      ]
    }
  ]
}